{
 "cells": [
  {
   "cell_type": "markdown",
   "metadata": {},
   "source": [
    "# Detecting Phishing Websites using Neural Networks"
   ]
  },
  {
   "cell_type": "code",
   "execution_count": 1,
   "metadata": {},
   "outputs": [],
   "source": [
    "# Filter the uneccesary warnings\n",
    "import warnings\n",
    "warnings.filterwarnings(\"ignore\")\n",
    "\n",
    "#import Tensorflow and keras\n",
    "import tensorflow as tf\n",
    "from tensorflow import keras\n",
    "\n",
    "# Import pandas and numpy\n",
    "import pandas as pd\n",
    "import numpy as np"
   ]
  },
  {
   "cell_type": "code",
   "execution_count": 2,
   "metadata": {},
   "outputs": [
    {
     "data": {
      "text/html": [
       "<div>\n",
       "<style scoped>\n",
       "    .dataframe tbody tr th:only-of-type {\n",
       "        vertical-align: middle;\n",
       "    }\n",
       "\n",
       "    .dataframe tbody tr th {\n",
       "        vertical-align: top;\n",
       "    }\n",
       "\n",
       "    .dataframe thead th {\n",
       "        text-align: right;\n",
       "    }\n",
       "</style>\n",
       "<table border=\"1\" class=\"dataframe\">\n",
       "  <thead>\n",
       "    <tr style=\"text-align: right;\">\n",
       "      <th></th>\n",
       "      <th>0</th>\n",
       "      <th>1</th>\n",
       "      <th>2</th>\n",
       "      <th>3</th>\n",
       "      <th>4</th>\n",
       "    </tr>\n",
       "  </thead>\n",
       "  <tbody>\n",
       "    <tr>\n",
       "      <th>having_IP_Address</th>\n",
       "      <td>-1</td>\n",
       "      <td>1</td>\n",
       "      <td>1</td>\n",
       "      <td>1</td>\n",
       "      <td>1</td>\n",
       "    </tr>\n",
       "    <tr>\n",
       "      <th>URL_Length</th>\n",
       "      <td>1</td>\n",
       "      <td>1</td>\n",
       "      <td>0</td>\n",
       "      <td>0</td>\n",
       "      <td>0</td>\n",
       "    </tr>\n",
       "    <tr>\n",
       "      <th>Shortining_Service</th>\n",
       "      <td>1</td>\n",
       "      <td>1</td>\n",
       "      <td>1</td>\n",
       "      <td>1</td>\n",
       "      <td>-1</td>\n",
       "    </tr>\n",
       "    <tr>\n",
       "      <th>having_At_Symbol</th>\n",
       "      <td>1</td>\n",
       "      <td>1</td>\n",
       "      <td>1</td>\n",
       "      <td>1</td>\n",
       "      <td>1</td>\n",
       "    </tr>\n",
       "    <tr>\n",
       "      <th>double_slash_redirecting</th>\n",
       "      <td>-1</td>\n",
       "      <td>1</td>\n",
       "      <td>1</td>\n",
       "      <td>1</td>\n",
       "      <td>1</td>\n",
       "    </tr>\n",
       "    <tr>\n",
       "      <th>Prefix_Suffix</th>\n",
       "      <td>-1</td>\n",
       "      <td>-1</td>\n",
       "      <td>-1</td>\n",
       "      <td>-1</td>\n",
       "      <td>-1</td>\n",
       "    </tr>\n",
       "    <tr>\n",
       "      <th>having_Sub_Domain</th>\n",
       "      <td>-1</td>\n",
       "      <td>0</td>\n",
       "      <td>-1</td>\n",
       "      <td>-1</td>\n",
       "      <td>1</td>\n",
       "    </tr>\n",
       "    <tr>\n",
       "      <th>SSLfinal_State</th>\n",
       "      <td>-1</td>\n",
       "      <td>1</td>\n",
       "      <td>-1</td>\n",
       "      <td>-1</td>\n",
       "      <td>1</td>\n",
       "    </tr>\n",
       "    <tr>\n",
       "      <th>Domain_registeration_length</th>\n",
       "      <td>-1</td>\n",
       "      <td>-1</td>\n",
       "      <td>-1</td>\n",
       "      <td>1</td>\n",
       "      <td>-1</td>\n",
       "    </tr>\n",
       "    <tr>\n",
       "      <th>Favicon</th>\n",
       "      <td>1</td>\n",
       "      <td>1</td>\n",
       "      <td>1</td>\n",
       "      <td>1</td>\n",
       "      <td>1</td>\n",
       "    </tr>\n",
       "    <tr>\n",
       "      <th>port</th>\n",
       "      <td>1</td>\n",
       "      <td>1</td>\n",
       "      <td>1</td>\n",
       "      <td>1</td>\n",
       "      <td>1</td>\n",
       "    </tr>\n",
       "    <tr>\n",
       "      <th>HTTPS_token</th>\n",
       "      <td>-1</td>\n",
       "      <td>-1</td>\n",
       "      <td>-1</td>\n",
       "      <td>-1</td>\n",
       "      <td>1</td>\n",
       "    </tr>\n",
       "    <tr>\n",
       "      <th>Request_URL</th>\n",
       "      <td>1</td>\n",
       "      <td>1</td>\n",
       "      <td>1</td>\n",
       "      <td>-1</td>\n",
       "      <td>1</td>\n",
       "    </tr>\n",
       "    <tr>\n",
       "      <th>URL_of_Anchor</th>\n",
       "      <td>-1</td>\n",
       "      <td>0</td>\n",
       "      <td>0</td>\n",
       "      <td>0</td>\n",
       "      <td>0</td>\n",
       "    </tr>\n",
       "    <tr>\n",
       "      <th>Links_in_tags</th>\n",
       "      <td>1</td>\n",
       "      <td>-1</td>\n",
       "      <td>-1</td>\n",
       "      <td>0</td>\n",
       "      <td>0</td>\n",
       "    </tr>\n",
       "    <tr>\n",
       "      <th>SFH</th>\n",
       "      <td>-1</td>\n",
       "      <td>-1</td>\n",
       "      <td>-1</td>\n",
       "      <td>-1</td>\n",
       "      <td>-1</td>\n",
       "    </tr>\n",
       "    <tr>\n",
       "      <th>Submitting_to_email</th>\n",
       "      <td>-1</td>\n",
       "      <td>1</td>\n",
       "      <td>-1</td>\n",
       "      <td>1</td>\n",
       "      <td>1</td>\n",
       "    </tr>\n",
       "    <tr>\n",
       "      <th>Abnormal_URL</th>\n",
       "      <td>-1</td>\n",
       "      <td>1</td>\n",
       "      <td>-1</td>\n",
       "      <td>1</td>\n",
       "      <td>1</td>\n",
       "    </tr>\n",
       "    <tr>\n",
       "      <th>Redirect</th>\n",
       "      <td>0</td>\n",
       "      <td>0</td>\n",
       "      <td>0</td>\n",
       "      <td>0</td>\n",
       "      <td>0</td>\n",
       "    </tr>\n",
       "    <tr>\n",
       "      <th>on_mouseover</th>\n",
       "      <td>1</td>\n",
       "      <td>1</td>\n",
       "      <td>1</td>\n",
       "      <td>1</td>\n",
       "      <td>-1</td>\n",
       "    </tr>\n",
       "    <tr>\n",
       "      <th>RightClick</th>\n",
       "      <td>1</td>\n",
       "      <td>1</td>\n",
       "      <td>1</td>\n",
       "      <td>1</td>\n",
       "      <td>1</td>\n",
       "    </tr>\n",
       "    <tr>\n",
       "      <th>popUpWidnow</th>\n",
       "      <td>1</td>\n",
       "      <td>1</td>\n",
       "      <td>1</td>\n",
       "      <td>1</td>\n",
       "      <td>-1</td>\n",
       "    </tr>\n",
       "    <tr>\n",
       "      <th>Iframe</th>\n",
       "      <td>1</td>\n",
       "      <td>1</td>\n",
       "      <td>1</td>\n",
       "      <td>1</td>\n",
       "      <td>1</td>\n",
       "    </tr>\n",
       "    <tr>\n",
       "      <th>age_of_domain</th>\n",
       "      <td>-1</td>\n",
       "      <td>-1</td>\n",
       "      <td>1</td>\n",
       "      <td>-1</td>\n",
       "      <td>-1</td>\n",
       "    </tr>\n",
       "    <tr>\n",
       "      <th>DNSRecord</th>\n",
       "      <td>-1</td>\n",
       "      <td>-1</td>\n",
       "      <td>-1</td>\n",
       "      <td>-1</td>\n",
       "      <td>-1</td>\n",
       "    </tr>\n",
       "    <tr>\n",
       "      <th>web_traffic</th>\n",
       "      <td>-1</td>\n",
       "      <td>0</td>\n",
       "      <td>1</td>\n",
       "      <td>1</td>\n",
       "      <td>0</td>\n",
       "    </tr>\n",
       "    <tr>\n",
       "      <th>Page_Rank</th>\n",
       "      <td>-1</td>\n",
       "      <td>-1</td>\n",
       "      <td>-1</td>\n",
       "      <td>-1</td>\n",
       "      <td>-1</td>\n",
       "    </tr>\n",
       "    <tr>\n",
       "      <th>Google_Index</th>\n",
       "      <td>1</td>\n",
       "      <td>1</td>\n",
       "      <td>1</td>\n",
       "      <td>1</td>\n",
       "      <td>1</td>\n",
       "    </tr>\n",
       "    <tr>\n",
       "      <th>Links_pointing_to_page</th>\n",
       "      <td>1</td>\n",
       "      <td>1</td>\n",
       "      <td>0</td>\n",
       "      <td>-1</td>\n",
       "      <td>1</td>\n",
       "    </tr>\n",
       "    <tr>\n",
       "      <th>Statistical_report</th>\n",
       "      <td>-1</td>\n",
       "      <td>1</td>\n",
       "      <td>-1</td>\n",
       "      <td>1</td>\n",
       "      <td>1</td>\n",
       "    </tr>\n",
       "    <tr>\n",
       "      <th>Result</th>\n",
       "      <td>-1</td>\n",
       "      <td>-1</td>\n",
       "      <td>-1</td>\n",
       "      <td>-1</td>\n",
       "      <td>1</td>\n",
       "    </tr>\n",
       "  </tbody>\n",
       "</table>\n",
       "</div>"
      ],
      "text/plain": [
       "                             0  1  2  3  4\n",
       "having_IP_Address           -1  1  1  1  1\n",
       "URL_Length                   1  1  0  0  0\n",
       "Shortining_Service           1  1  1  1 -1\n",
       "having_At_Symbol             1  1  1  1  1\n",
       "double_slash_redirecting    -1  1  1  1  1\n",
       "Prefix_Suffix               -1 -1 -1 -1 -1\n",
       "having_Sub_Domain           -1  0 -1 -1  1\n",
       "SSLfinal_State              -1  1 -1 -1  1\n",
       "Domain_registeration_length -1 -1 -1  1 -1\n",
       "Favicon                      1  1  1  1  1\n",
       "port                         1  1  1  1  1\n",
       "HTTPS_token                 -1 -1 -1 -1  1\n",
       "Request_URL                  1  1  1 -1  1\n",
       "URL_of_Anchor               -1  0  0  0  0\n",
       "Links_in_tags                1 -1 -1  0  0\n",
       "SFH                         -1 -1 -1 -1 -1\n",
       "Submitting_to_email         -1  1 -1  1  1\n",
       "Abnormal_URL                -1  1 -1  1  1\n",
       "Redirect                     0  0  0  0  0\n",
       "on_mouseover                 1  1  1  1 -1\n",
       "RightClick                   1  1  1  1  1\n",
       "popUpWidnow                  1  1  1  1 -1\n",
       "Iframe                       1  1  1  1  1\n",
       "age_of_domain               -1 -1  1 -1 -1\n",
       "DNSRecord                   -1 -1 -1 -1 -1\n",
       "web_traffic                 -1  0  1  1  0\n",
       "Page_Rank                   -1 -1 -1 -1 -1\n",
       "Google_Index                 1  1  1  1  1\n",
       "Links_pointing_to_page       1  1  0 -1  1\n",
       "Statistical_report          -1  1 -1  1  1\n",
       "Result                      -1 -1 -1 -1  1"
      ]
     },
     "execution_count": 2,
     "metadata": {},
     "output_type": "execute_result"
    }
   ],
   "source": [
    "myData = pd.read_csv(\"C:\\\\Users\\Whoopie\\\\Desktop\\\\School\\\\Spring_2020\\\\Knowledge_Based_Systems_APT_3020\\\\Manning-Phishing-Websites-Detection-master\\\\Phishing.csv\")\n",
    "\n",
    "myData.head().T"
   ]
  },
  {
   "cell_type": "code",
   "execution_count": 3,
   "metadata": {},
   "outputs": [
    {
     "data": {
      "text/plain": [
       "(11055, 31)"
      ]
     },
     "execution_count": 3,
     "metadata": {},
     "output_type": "execute_result"
    }
   ],
   "source": [
    "# Data dimension\n",
    "myData.shape"
   ]
  },
  {
   "cell_type": "markdown",
   "metadata": {},
   "source": [
    "### Finding out the distribution of the class labels and preparing a report"
   ]
  },
  {
   "cell_type": "code",
   "execution_count": 4,
   "metadata": {},
   "outputs": [
    {
     "data": {
      "text/html": [
       "<div>\n",
       "<style scoped>\n",
       "    .dataframe tbody tr th:only-of-type {\n",
       "        vertical-align: middle;\n",
       "    }\n",
       "\n",
       "    .dataframe tbody tr th {\n",
       "        vertical-align: top;\n",
       "    }\n",
       "\n",
       "    .dataframe thead th {\n",
       "        text-align: right;\n",
       "    }\n",
       "</style>\n",
       "<table border=\"1\" class=\"dataframe\">\n",
       "  <thead>\n",
       "    <tr style=\"text-align: right;\">\n",
       "      <th></th>\n",
       "      <th>Class</th>\n",
       "      <th>Num_Observations</th>\n",
       "    </tr>\n",
       "  </thead>\n",
       "  <tbody>\n",
       "    <tr>\n",
       "      <th>0</th>\n",
       "      <td>1</td>\n",
       "      <td>6157</td>\n",
       "    </tr>\n",
       "    <tr>\n",
       "      <th>1</th>\n",
       "      <td>-1</td>\n",
       "      <td>4898</td>\n",
       "    </tr>\n",
       "  </tbody>\n",
       "</table>\n",
       "</div>"
      ],
      "text/plain": [
       "   Class  Num_Observations\n",
       "0      1              6157\n",
       "1     -1              4898"
      ]
     },
     "execution_count": 4,
     "metadata": {},
     "output_type": "execute_result"
    }
   ],
   "source": [
    "from collections import Counter\n",
    "\n",
    "classes = Counter(myData['Result'].values)\n",
    "classes.most_common()\n",
    "\n",
    "class_dist = pd.DataFrame(classes.most_common(), columns=['Class', 'Num_Observations'])\n",
    "class_dist"
   ]
  },
  {
   "cell_type": "markdown",
   "metadata": {},
   "source": [
    "### Plot bar distribution"
   ]
  },
  {
   "cell_type": "code",
   "execution_count": 5,
   "metadata": {},
   "outputs": [
    {
     "data": {
      "image/png": "[encoded data removed]",
      "text/plain": [
       "<Figure size 720x576 with 1 Axes>"
      ]
     },
     "metadata": {},
     "output_type": "display_data"
    }
   ],
   "source": [
    "import matplotlib.pyplot as plt\n",
    "%matplotlib inline\n",
    "plt.style.use('ggplot')\n",
    "\n",
    "subplot = class_dist.groupby('Class')['Num_Observations'].sum().plot(kind='barh', width=0.2, figsize=(10,8))\n",
    "\n",
    "subplot.set_title('Class distribution of the websites', fontsize = 15)\n",
    "subplot.set_xlabel('Number of Observations', fontsize = 14)\n",
    "subplot.set_ylabel('Class', fontsize = 14)\n",
    "\n",
    "for i in subplot.patches:\n",
    "    subplot.text(i.get_width()+0.1, i.get_y()+0.1, \\\n",
    "            str(i.get_width()), fontsize=11)"
   ]
  },
  {
   "cell_type": "code",
   "execution_count": 6,
   "metadata": {},
   "outputs": [
    {
     "data": {
      "text/plain": [
       "having_IP_Address              0\n",
       "URL_Length                     0\n",
       "Shortining_Service             0\n",
       "having_At_Symbol               0\n",
       "double_slash_redirecting       0\n",
       "Prefix_Suffix                  0\n",
       "having_Sub_Domain              0\n",
       "SSLfinal_State                 0\n",
       "Domain_registeration_length    0\n",
       "Favicon                        0\n",
       "port                           0\n",
       "HTTPS_token                    0\n",
       "Request_URL                    0\n",
       "URL_of_Anchor                  0\n",
       "Links_in_tags                  0\n",
       "SFH                            0\n",
       "Submitting_to_email            0\n",
       "Abnormal_URL                   0\n",
       "Redirect                       0\n",
       "on_mouseover                   0\n",
       "RightClick                     0\n",
       "popUpWidnow                    0\n",
       "Iframe                         0\n",
       "age_of_domain                  0\n",
       "DNSRecord                      0\n",
       "web_traffic                    0\n",
       "Page_Rank                      0\n",
       "Google_Index                   0\n",
       "Links_pointing_to_page         0\n",
       "Statistical_report             0\n",
       "Result                         0\n",
       "dtype: int64"
      ]
     },
     "execution_count": 6,
     "metadata": {},
     "output_type": "execute_result"
    }
   ],
   "source": [
    "#Find null\n",
    "myData.isna().sum()"
   ]
  },
  {
   "cell_type": "markdown",
   "metadata": {},
   "source": [
    "### Mapping the -1 values to 0 in the class labels"
   ]
  },
  {
   "cell_type": "code",
   "execution_count": 7,
   "metadata": {},
   "outputs": [
    {
     "data": {
      "text/plain": [
       "array([0, 1], dtype=int64)"
      ]
     },
     "execution_count": 7,
     "metadata": {},
     "output_type": "execute_result"
    }
   ],
   "source": [
    "myData.rename(columns={'Result': 'Class'}, inplace=True)\n",
    "#When inplace = True is used, it performs operation on data and nothing is returned. \n",
    "#When inplace=False is used, it performs operation on data and returns a new copy of data\n",
    "\n",
    "myData['Class'] = myData['Class'].map({-1:0, 1:1})\n",
    "myData['Class'].unique()"
   ]
  },
  {
   "cell_type": "markdown",
   "metadata": {},
   "source": [
    "### Split data"
   ]
  },
  {
   "cell_type": "code",
   "execution_count": 8,
   "metadata": {},
   "outputs": [],
   "source": [
    "from sklearn.model_selection import train_test_split\n",
    "\n",
    "#iloc is integer index based, so it specifies rows and columns by their integer index\n",
    "X = myData.iloc[:,0:30].values.astype(int)\n",
    "y = myData.iloc[:,30].values.astype(int)\n",
    "\n",
    "X_train, X_test, y_train, y_test = train_test_split(X, y, test_size=0.2, random_state=np.random.seed(7))"
   ]
  },
  {
   "cell_type": "code",
   "execution_count": null,
   "metadata": {},
   "outputs": [],
   "source": []
  },
  {
   "cell_type": "markdown",
   "metadata": {},
   "source": [
    "#### Fit training data to the Logistic Regression Classifier; suitable coz data is in -1, 0, 1."
   ]
  },
  {
   "cell_type": "code",
   "execution_count": 11,
   "metadata": {},
   "outputs": [
    {
     "data": {
      "text/plain": [
       "LogisticRegression(C=1.0, class_weight=None, dual=False, fit_intercept=True,\n",
       "                   intercept_scaling=1, l1_ratio=None, max_iter=100,\n",
       "                   multi_class='auto', n_jobs=None, penalty='l2',\n",
       "                   random_state=None, solver='lbfgs', tol=0.0001, verbose=0,\n",
       "                   warm_start=False)"
      ]
     },
     "execution_count": 11,
     "metadata": {},
     "output_type": "execute_result"
    }
   ],
   "source": [
    "from sklearn.linear_model import LogisticRegression \n",
    "\n",
    "logreg = LogisticRegression()\n",
    "logreg.fit(X_train, y_train)"
   ]
  },
  {
   "cell_type": "markdown",
   "metadata": {},
   "source": [
    "### Find  Accuracy"
   ]
  },
  {
   "cell_type": "code",
   "execution_count": 12,
   "metadata": {},
   "outputs": [
    {
     "name": "stdout",
     "output_type": "stream",
     "text": [
      "Accuracy score of the Logistic Regression classifier with default hyperparameter values 93.71%\n",
      "\n",
      "\n",
      "----Classification report of the Logistic Regression classifier with default hyperparameter value----\n",
      "\n",
      "\n",
      "                   precision    recall  f1-score   support\n",
      "\n",
      "Phishing Websites       0.94      0.92      0.93       974\n",
      "  Normal Websites       0.94      0.95      0.94      1237\n",
      "\n",
      "         accuracy                           0.94      2211\n",
      "        macro avg       0.94      0.94      0.94      2211\n",
      "     weighted avg       0.94      0.94      0.94      2211\n",
      "\n"
     ]
    }
   ],
   "source": [
    "from sklearn.metrics import accuracy_score, classification_report\n",
    "\n",
    "print('Accuracy score of the Logistic Regression classifier with default hyperparameter values {0:.2f}%'.format(accuracy_score(y_test, logreg.predict(X_test))*100.))\n",
    "print('\\n')\n",
    "print('----Classification report of the Logistic Regression classifier with default hyperparameter value----')\n",
    "print('\\n')\n",
    "print(classification_report(y_test, logreg.predict(X_test), target_names=['Phishing Websites', 'Normal Websites']))"
   ]
  },
  {
   "cell_type": "markdown",
   "metadata": {},
   "source": [
    "### Hyperparameter tuning with random search"
   ]
  },
  {
   "cell_type": "code",
   "execution_count": 17,
   "metadata": {},
   "outputs": [
    {
     "name": "stdout",
     "output_type": "stream",
     "text": [
      "Best score: 92.41 using {'tol': 0.0001, 'penalty': 'l2', 'max_iter': 250, 'C': 0.9}\n"
     ]
    }
   ],
   "source": [
    "# Import GridSearchCV\n",
    "from sklearn.model_selection import RandomizedSearchCV\n",
    "\n",
    "# Define the grid of values\n",
    "#penalty : Used to specify the norm used in the penalization (regularization).\n",
    "penalty = ['l1', 'l2']\n",
    "C = [0.8, 0.9, 1.0]\n",
    "tol = [0.01, 0.001 ,0.0001]\n",
    "\n",
    "#max_iter : Maximum number of iterations taken to converge.\n",
    "max_iter = [100, 150, 200, 250]\n",
    "\n",
    "# Create a dictionary where tol and max_iter are keys and the lists of their values are the corresponding values\n",
    "param_grid = dict(penalty=penalty, C=C, tol=tol, max_iter=max_iter)\n",
    "\n",
    "# Instantiate RandomizedSearchCV with the required parameters\n",
    "random_model = RandomizedSearchCV(estimator=logreg, param_distributions=param_grid, cv=5)\n",
    "\n",
    "# Fit random_model to the data\n",
    "random_model_result = random_model.fit(X_train, y_train)\n",
    "\n",
    "# Summarize results\n",
    "best_score, best_params = random_model_result.best_score_, random_model_result.best_params_\n",
    "print(\"Best score: %.2f using %s\" % (best_score*100., best_params))\n"
   ]
  },
  {
   "cell_type": "markdown",
   "metadata": {},
   "source": [
    "### Use Neural networks"
   ]
  },
  {
   "cell_type": "code",
   "execution_count": 14,
   "metadata": {},
   "outputs": [
    {
     "name": "stderr",
     "output_type": "stream",
     "text": [
      "Using TensorFlow backend.\n"
     ]
    }
   ],
   "source": [
    "# Imports\n",
    "from keras.models import Sequential\n",
    "from keras.layers import Dense\n",
    "from keras.optimizers import *"
   ]
  },
  {
   "cell_type": "code",
   "execution_count": 15,
   "metadata": {},
   "outputs": [
    {
     "name": "stdout",
     "output_type": "stream",
     "text": [
      "WARNING:tensorflow:From C:\\ProgramData\\Anaconda3\\lib\\site-packages\\tensorflow\\python\\ops\\resource_variable_ops.py:435: colocate_with (from tensorflow.python.framework.ops) is deprecated and will be removed in a future version.\n",
      "Instructions for updating:\n",
      "Colocations handled automatically by placer.\n",
      "Model: \"sequential_1\"\n",
      "_________________________________________________________________\n",
      "Layer (type)                 Output Shape              Param #   \n",
      "=================================================================\n",
      "dense_1 (Dense)              (None, 40)                1240      \n",
      "_________________________________________________________________\n",
      "dense_2 (Dense)              (None, 30)                1230      \n",
      "_________________________________________________________________\n",
      "dense_3 (Dense)              (None, 1)                 31        \n",
      "=================================================================\n",
      "Total params: 2,501\n",
      "Trainable params: 2,501\n",
      "Non-trainable params: 0\n",
      "_________________________________________________________________\n"
     ]
    }
   ],
   "source": [
    "# Model building using the Sequential API\n",
    "#provides linear stack of layers\n",
    "model = Sequential()\n",
    "\n",
    "#activation function introduces non-linearity into the output of a neuron\n",
    "model.add(Dense(40, activation='relu', kernel_initializer='uniform',input_dim=X.shape[1]))\n",
    "model.add(Dense(30, activation='relu', kernel_initializer='uniform'))\n",
    "model.add(Dense(1,  activation='sigmoid', kernel_initializer='uniform'))\n",
    "\n",
    "#loss measures how far from the true value the prediction is.\n",
    "model.compile(loss='binary_crossentropy', optimizer=Adam(), metrics=['accuracy'])\n",
    "\n",
    "model.summary()"
   ]
  },
  {
   "cell_type": "code",
   "execution_count": 16,
   "metadata": {
    "scrolled": false
   },
   "outputs": [
    {
     "name": "stdout",
     "output_type": "stream",
     "text": [
      "WARNING:tensorflow:From C:\\ProgramData\\Anaconda3\\lib\\site-packages\\tensorflow\\python\\ops\\math_ops.py:3066: to_int32 (from tensorflow.python.ops.math_ops) is deprecated and will be removed in a future version.\n",
      "Instructions for updating:\n",
      "Use tf.cast instead.\n",
      "Epoch 1/128\n",
      "8844/8844 [==============================] - 1s 81us/step - loss: 0.4172 - accuracy: 0.8272\n",
      "Epoch 2/128\n",
      "8844/8844 [==============================] - 0s 26us/step - loss: 0.2030 - accuracy: 0.9210\n",
      "Epoch 3/128\n",
      "8844/8844 [==============================] - 0s 27us/step - loss: 0.1944 - accuracy: 0.9233\n",
      "Epoch 4/128\n",
      "8844/8844 [==============================] - 0s 26us/step - loss: 0.1903 - accuracy: 0.9251\n",
      "Epoch 5/128\n",
      "8844/8844 [==============================] - 0s 27us/step - loss: 0.1859 - accuracy: 0.9274\n",
      "Epoch 6/128\n",
      "8844/8844 [==============================] - 0s 27us/step - loss: 0.1831 - accuracy: 0.9283\n",
      "Epoch 7/128\n",
      "8844/8844 [==============================] - 0s 27us/step - loss: 0.1786 - accuracy: 0.9271\n",
      "Epoch 8/128\n",
      "8844/8844 [==============================] - 0s 30us/step - loss: 0.1748 - accuracy: 0.9293\n",
      "Epoch 9/128\n",
      "8844/8844 [==============================] - 0s 28us/step - loss: 0.1690 - accuracy: 0.9302\n",
      "Epoch 10/128\n",
      "8844/8844 [==============================] - 0s 28us/step - loss: 0.1649 - accuracy: 0.9326\n",
      "Epoch 11/128\n",
      "8844/8844 [==============================] - 0s 27us/step - loss: 0.1600 - accuracy: 0.9331\n",
      "Epoch 12/128\n",
      "8844/8844 [==============================] - 0s 27us/step - loss: 0.1554 - accuracy: 0.9358\n",
      "Epoch 13/128\n",
      "8844/8844 [==============================] - 0s 27us/step - loss: 0.1507 - accuracy: 0.9376\n",
      "Epoch 14/128\n",
      "8844/8844 [==============================] - 0s 28us/step - loss: 0.1477 - accuracy: 0.9384\n",
      "Epoch 15/128\n",
      "8844/8844 [==============================] - 0s 27us/step - loss: 0.1440 - accuracy: 0.9374\n",
      "Epoch 16/128\n",
      "8844/8844 [==============================] - 0s 27us/step - loss: 0.1390 - accuracy: 0.9418\n",
      "Epoch 17/128\n",
      "8844/8844 [==============================] - 0s 27us/step - loss: 0.1363 - accuracy: 0.9408\n",
      "Epoch 18/128\n",
      "8844/8844 [==============================] - 0s 28us/step - loss: 0.1323 - accuracy: 0.9423\n",
      "Epoch 19/128\n",
      "8844/8844 [==============================] - 0s 27us/step - loss: 0.1311 - accuracy: 0.9453\n",
      "Epoch 20/128\n",
      "8844/8844 [==============================] - 0s 27us/step - loss: 0.1285 - accuracy: 0.9448\n",
      "Epoch 21/128\n",
      "8844/8844 [==============================] - 0s 27us/step - loss: 0.1276 - accuracy: 0.9445\n",
      "Epoch 22/128\n",
      "8844/8844 [==============================] - 0s 27us/step - loss: 0.1257 - accuracy: 0.9453\n",
      "Epoch 23/128\n",
      "8844/8844 [==============================] - 0s 29us/step - loss: 0.1213 - accuracy: 0.9460\n",
      "Epoch 24/128\n",
      "8844/8844 [==============================] - 0s 28us/step - loss: 0.1205 - accuracy: 0.9464\n",
      "Epoch 25/128\n",
      "8844/8844 [==============================] - 0s 27us/step - loss: 0.1197 - accuracy: 0.9480\n",
      "Epoch 26/128\n",
      "8844/8844 [==============================] - 0s 29us/step - loss: 0.1172 - accuracy: 0.9480\n",
      "Epoch 27/128\n",
      "8844/8844 [==============================] - 0s 28us/step - loss: 0.1142 - accuracy: 0.9479\n",
      "Epoch 28/128\n",
      "8844/8844 [==============================] - 0s 28us/step - loss: 0.1164 - accuracy: 0.9482\n",
      "Epoch 29/128\n",
      "8844/8844 [==============================] - 0s 28us/step - loss: 0.1131 - accuracy: 0.9504\n",
      "Epoch 30/128\n",
      "8844/8844 [==============================] - 0s 28us/step - loss: 0.1113 - accuracy: 0.9516\n",
      "Epoch 31/128\n",
      "8844/8844 [==============================] - 0s 27us/step - loss: 0.1109 - accuracy: 0.9522\n",
      "Epoch 32/128\n",
      "8844/8844 [==============================] - 0s 28us/step - loss: 0.1104 - accuracy: 0.9531\n",
      "Epoch 33/128\n",
      "8844/8844 [==============================] - 0s 28us/step - loss: 0.1076 - accuracy: 0.9539\n",
      "Epoch 34/128\n",
      "8844/8844 [==============================] - 0s 28us/step - loss: 0.1048 - accuracy: 0.9549\n",
      "Epoch 35/128\n",
      "8844/8844 [==============================] - 0s 27us/step - loss: 0.1059 - accuracy: 0.9551\n",
      "Epoch 36/128\n",
      "8844/8844 [==============================] - 0s 27us/step - loss: 0.1075 - accuracy: 0.9547\n",
      "Epoch 37/128\n",
      "8844/8844 [==============================] - 0s 27us/step - loss: 0.1046 - accuracy: 0.9545\n",
      "Epoch 38/128\n",
      "8844/8844 [==============================] - 0s 29us/step - loss: 0.1037 - accuracy: 0.9571\n",
      "Epoch 39/128\n",
      "8844/8844 [==============================] - 0s 27us/step - loss: 0.1020 - accuracy: 0.9554\n",
      "Epoch 40/128\n",
      "8844/8844 [==============================] - 0s 27us/step - loss: 0.0995 - accuracy: 0.9570\n",
      "Epoch 41/128\n",
      "8844/8844 [==============================] - 0s 27us/step - loss: 0.0978 - accuracy: 0.9570\n",
      "Epoch 42/128\n",
      "8844/8844 [==============================] - 0s 28us/step - loss: 0.0972 - accuracy: 0.9571\n",
      "Epoch 43/128\n",
      "8844/8844 [==============================] - 0s 28us/step - loss: 0.0972 - accuracy: 0.9599\n",
      "Epoch 44/128\n",
      "8844/8844 [==============================] - 0s 28us/step - loss: 0.0933 - accuracy: 0.9608\n",
      "Epoch 45/128\n",
      "8844/8844 [==============================] - 0s 28us/step - loss: 0.0929 - accuracy: 0.9601\n",
      "Epoch 46/128\n",
      "8844/8844 [==============================] - 0s 28us/step - loss: 0.0917 - accuracy: 0.9611\n",
      "Epoch 47/128\n",
      "8844/8844 [==============================] - 0s 28us/step - loss: 0.0946 - accuracy: 0.9608\n",
      "Epoch 48/128\n",
      "8844/8844 [==============================] - 0s 28us/step - loss: 0.0885 - accuracy: 0.9628\n",
      "Epoch 49/128\n",
      "8844/8844 [==============================] - 0s 27us/step - loss: 0.0898 - accuracy: 0.9612\n",
      "Epoch 50/128\n",
      "8844/8844 [==============================] - 0s 28us/step - loss: 0.0867 - accuracy: 0.9608\n",
      "Epoch 51/128\n",
      "8844/8844 [==============================] - 0s 27us/step - loss: 0.0867 - accuracy: 0.9629\n",
      "Epoch 52/128\n",
      "8844/8844 [==============================] - 0s 29us/step - loss: 0.0853 - accuracy: 0.9630\n",
      "Epoch 53/128\n",
      "8844/8844 [==============================] - 0s 28us/step - loss: 0.0860 - accuracy: 0.9633\n",
      "Epoch 54/128\n",
      "8844/8844 [==============================] - 0s 28us/step - loss: 0.0826 - accuracy: 0.9657\n",
      "Epoch 55/128\n",
      "8844/8844 [==============================] - 0s 29us/step - loss: 0.0863 - accuracy: 0.9626\n",
      "Epoch 56/128\n",
      "8844/8844 [==============================] - 0s 27us/step - loss: 0.0850 - accuracy: 0.9633\n",
      "Epoch 57/128\n",
      "8844/8844 [==============================] - 0s 27us/step - loss: 0.0812 - accuracy: 0.9648\n",
      "Epoch 58/128\n",
      "8844/8844 [==============================] - 0s 28us/step - loss: 0.0801 - accuracy: 0.9661\n",
      "Epoch 59/128\n",
      "8844/8844 [==============================] - 0s 27us/step - loss: 0.0826 - accuracy: 0.9630\n",
      "Epoch 60/128\n",
      "8844/8844 [==============================] - 0s 28us/step - loss: 0.0782 - accuracy: 0.9648\n",
      "Epoch 61/128\n",
      "8844/8844 [==============================] - 0s 27us/step - loss: 0.0762 - accuracy: 0.9675\n",
      "Epoch 62/128\n",
      "8844/8844 [==============================] - 0s 29us/step - loss: 0.0773 - accuracy: 0.9669\n",
      "Epoch 63/128\n",
      "8844/8844 [==============================] - 0s 29us/step - loss: 0.0775 - accuracy: 0.9657\n",
      "Epoch 64/128\n",
      "8844/8844 [==============================] - 0s 29us/step - loss: 0.0748 - accuracy: 0.9673\n",
      "Epoch 65/128\n",
      "8844/8844 [==============================] - 0s 27us/step - loss: 0.0764 - accuracy: 0.9678\n",
      "Epoch 66/128\n",
      "8844/8844 [==============================] - 0s 28us/step - loss: 0.0708 - accuracy: 0.9699\n",
      "Epoch 67/128\n",
      "8844/8844 [==============================] - 0s 28us/step - loss: 0.0743 - accuracy: 0.9689\n",
      "Epoch 68/128\n",
      "8844/8844 [==============================] - 0s 28us/step - loss: 0.0711 - accuracy: 0.9689\n",
      "Epoch 69/128\n",
      "8844/8844 [==============================] - 0s 28us/step - loss: 0.0753 - accuracy: 0.9680\n",
      "Epoch 70/128\n",
      "8844/8844 [==============================] - 0s 28us/step - loss: 0.0748 - accuracy: 0.9670\n",
      "Epoch 71/128\n",
      "8844/8844 [==============================] - 0s 29us/step - loss: 0.0721 - accuracy: 0.9700\n",
      "2211/2211 [==============================] - 0s 66us/step\n",
      "\n",
      "Accuracy score of the Neural Network with basic hyperparameter settings 96.25%\n"
     ]
    }
   ],
   "source": [
    "from keras import callbacks\n",
    "#Callbacks can help get internal states and statistics of the model during training\n",
    "\n",
    "es_cb = callbacks.EarlyStopping(monitor='loss', min_delta=0.001, patience=5)\n",
    "#min-delta: minimum change in the monitored quantity to modify as an improvement\n",
    "#patience: number of epochs with no improvement after which training will stop\n",
    "\n",
    "history = model.fit(X_train, y_train, batch_size=64, epochs=128, verbose=1, callbacks=[es_cb])\n",
    "\n",
    "scores = model.evaluate(X_test, y_test)\n",
    "print('\\nAccuracy score of the Neural Network with basic hyperparameter settings {0:.2f}%'.format(scores[1]*100))"
   ]
  },
  {
   "cell_type": "raw",
   "metadata": {},
   "source": [
    "Evaluates model at the end of each epoch and gives performance. Accuracy has now improved as seen."
   ]
  },
  {
   "cell_type": "code",
   "execution_count": null,
   "metadata": {},
   "outputs": [],
   "source": []
  }
 ],
 "metadata": {
  "kernelspec": {
   "display_name": "Python 3",
   "language": "python",
   "name": "python3"
  },
  "language_info": {
   "codemirror_mode": {
    "name": "ipython",
    "version": 3
   },
   "file_extension": ".py",
   "mimetype": "text/x-python",
   "name": "python",
   "nbconvert_exporter": "python",
   "pygments_lexer": "ipython3",
   "version": "3.7.1"
  }
 },
 "nbformat": 4,
 "nbformat_minor": 4
}
